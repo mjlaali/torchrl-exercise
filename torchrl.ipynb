{
 "cells": [
  {
   "cell_type": "code",
   "execution_count": 9,
   "id": "d3027478",
   "metadata": {},
   "outputs": [],
   "source": [
    "from torchrl.data import BinaryDiscreteTensorSpec, DiscreteTensorSpec"
   ]
  },
  {
   "cell_type": "code",
   "execution_count": 24,
   "id": "15493908",
   "metadata": {},
   "outputs": [],
   "source": [
    "binary = BinaryDiscreteTensorSpec(n=2)"
   ]
  },
  {
   "cell_type": "code",
   "execution_count": 25,
   "id": "050c302e",
   "metadata": {},
   "outputs": [
    {
     "data": {
      "text/plain": [
       "tensor([0, 0])"
      ]
     },
     "execution_count": 25,
     "metadata": {},
     "output_type": "execute_result"
    }
   ],
   "source": [
    "binary.rand()"
   ]
  },
  {
   "cell_type": "code",
   "execution_count": 12,
   "id": "cb17bfcc",
   "metadata": {},
   "outputs": [
    {
     "data": {
      "text/plain": [
       "torch.int64"
      ]
     },
     "execution_count": 12,
     "metadata": {},
     "output_type": "execute_result"
    }
   ],
   "source": [
    "binary.dtype"
   ]
  },
  {
   "cell_type": "code",
   "execution_count": 19,
   "id": "efaf99fa",
   "metadata": {},
   "outputs": [],
   "source": [
    "discrete = DiscreteTensorSpec(n=2)"
   ]
  },
  {
   "cell_type": "code",
   "execution_count": 22,
   "id": "9b865acc",
   "metadata": {},
   "outputs": [
    {
     "name": "stdout",
     "output_type": "stream",
     "text": [
      "tensor(1)\n",
      "tensor(1)\n",
      "tensor(1)\n",
      "tensor(0)\n",
      "tensor(0)\n",
      "tensor(0)\n",
      "tensor(0)\n",
      "tensor(1)\n",
      "tensor(1)\n",
      "tensor(0)\n"
     ]
    }
   ],
   "source": [
    "for _ in range(10):\n",
    "    print(discrete.rand())"
   ]
  },
  {
   "cell_type": "code",
   "execution_count": 21,
   "id": "003cdd6d",
   "metadata": {},
   "outputs": [
    {
     "data": {
      "text/plain": [
       "torch.int64"
      ]
     },
     "execution_count": 21,
     "metadata": {},
     "output_type": "execute_result"
    }
   ],
   "source": [
    "discrete.dtype"
   ]
  },
  {
   "cell_type": "code",
   "execution_count": null,
   "id": "ee97cf02",
   "metadata": {},
   "outputs": [],
   "source": []
  }
 ],
 "metadata": {
  "kernelspec": {
   "display_name": "Python 3 (ipykernel)",
   "language": "python",
   "name": "python3"
  },
  "language_info": {
   "codemirror_mode": {
    "name": "ipython",
    "version": 3
   },
   "file_extension": ".py",
   "mimetype": "text/x-python",
   "name": "python",
   "nbconvert_exporter": "python",
   "pygments_lexer": "ipython3",
   "version": "3.10.12"
  }
 },
 "nbformat": 4,
 "nbformat_minor": 5
}
