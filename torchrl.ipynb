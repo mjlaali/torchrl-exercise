{
 "cells": [
  {
   "cell_type": "markdown",
   "id": "eca73628-63d0-4b56-b862-87c1266da891",
   "metadata": {},
   "source": [
    "# Bug report on Recorder"
   ]
  },
  {
   "cell_type": "code",
   "execution_count": null,
   "id": "7108a611-1e84-481b-84d6-44974eefe7a0",
   "metadata": {},
   "outputs": [],
   "source": [
    "\n",
    "\n",
    "recorder = Recorder(\n",
    "    record_interval=100,  # log every 100 optimization steps\n",
    "    record_frames=1000,  # maximum number of frames in the record\n",
    "    frame_skip=1,\n",
    "    policy_exploration=actor_explore,\n",
    "    environment=env,\n",
    "    exploration_type=ExplorationType.MODE,\n",
    "    log_keys=[(\"next\", \"reward\")],\n",
    "    out_keys={(\"next\", \"reward\"): \"rewards\"},\n",
    "    log_pbar=True,\n",
    ")\n"
   ]
  },
  {
   "cell_type": "markdown",
   "id": "22ce330d-de5a-4c0d-a075-a9077fb9b223",
   "metadata": {},
   "source": [
    "# Play with torchRL"
   ]
  },
  {
   "cell_type": "code",
   "execution_count": 244,
   "id": "d3027478",
   "metadata": {},
   "outputs": [],
   "source": [
    "from torchrl.data import BinaryDiscreteTensorSpec, DiscreteTensorSpec, OneHotDiscreteTensorSpec"
   ]
  },
  {
   "cell_type": "code",
   "execution_count": 237,
   "id": "15493908",
   "metadata": {},
   "outputs": [],
   "source": [
    "binary = BinaryDiscreteTensorSpec(n=3, shape=(2,3))"
   ]
  },
  {
   "cell_type": "code",
   "execution_count": 246,
   "id": "97daf38c-e743-4776-be50-cee86ff5366f",
   "metadata": {},
   "outputs": [
    {
     "data": {
      "text/plain": [
       "tensor([[False, False, False, False, False, False, False, False,  True],\n",
       "        [False,  True, False, False, False, False, False, False, False]])"
      ]
     },
     "execution_count": 246,
     "metadata": {},
     "output_type": "execute_result"
    }
   ],
   "source": [
    "OneHotDiscreteTensorSpec(n=9, shape=(2, 9)).rand()"
   ]
  },
  {
   "cell_type": "code",
   "execution_count": 238,
   "id": "050c302e",
   "metadata": {},
   "outputs": [
    {
     "data": {
      "text/plain": [
       "tensor([[0, 0, 1],\n",
       "        [1, 0, 0]])"
      ]
     },
     "execution_count": 238,
     "metadata": {},
     "output_type": "execute_result"
    }
   ],
   "source": [
    "binary.rand()"
   ]
  },
  {
   "cell_type": "code",
   "execution_count": 52,
   "id": "cb17bfcc",
   "metadata": {},
   "outputs": [
    {
     "data": {
      "text/plain": [
       "torch.int64"
      ]
     },
     "execution_count": 52,
     "metadata": {},
     "output_type": "execute_result"
    }
   ],
   "source": [
    "binary.dtype"
   ]
  },
  {
   "cell_type": "code",
   "execution_count": 234,
   "id": "efaf99fa",
   "metadata": {},
   "outputs": [],
   "source": [
    "discrete = DiscreteTensorSpec(n=3, shape=(2,))"
   ]
  },
  {
   "cell_type": "code",
   "execution_count": 235,
   "id": "9b865acc",
   "metadata": {},
   "outputs": [
    {
     "name": "stdout",
     "output_type": "stream",
     "text": [
      "tensor([0, 1])\n",
      "tensor([1, 2])\n",
      "tensor([0, 0])\n",
      "tensor([1, 2])\n",
      "tensor([0, 2])\n",
      "tensor([1, 1])\n",
      "tensor([1, 2])\n",
      "tensor([2, 0])\n",
      "tensor([2, 2])\n",
      "tensor([0, 1])\n"
     ]
    }
   ],
   "source": [
    "for _ in range(10):\n",
    "    print(discrete.rand())"
   ]
  },
  {
   "cell_type": "code",
   "execution_count": 55,
   "id": "003cdd6d",
   "metadata": {},
   "outputs": [
    {
     "data": {
      "text/plain": [
       "torch.int64"
      ]
     },
     "execution_count": 55,
     "metadata": {},
     "output_type": "execute_result"
    }
   ],
   "source": [
    "discrete.dtype"
   ]
  },
  {
   "cell_type": "code",
   "execution_count": 56,
   "id": "ee97cf02",
   "metadata": {},
   "outputs": [],
   "source": [
    "from torchrl.envs.libs.gym import GymEnv\n",
    "env = GymEnv(\"CliffWalking-v0\")"
   ]
  },
  {
   "cell_type": "code",
   "execution_count": 57,
   "id": "bcf1a3c7-8337-4581-b989-46c4d3b57f6b",
   "metadata": {},
   "outputs": [
    {
     "data": {
      "text/plain": [
       "DiscreteTensorSpec(\n",
       "    shape=torch.Size([1]),\n",
       "    space=DiscreteBox(n=2),\n",
       "    device=cpu,\n",
       "    dtype=torch.bool,\n",
       "    domain=discrete)"
      ]
     },
     "execution_count": 57,
     "metadata": {},
     "output_type": "execute_result"
    }
   ],
   "source": [
    "env.done_spec"
   ]
  },
  {
   "cell_type": "code",
   "execution_count": 58,
   "id": "d4db82ff-5562-4c42-9891-e84c80c6925a",
   "metadata": {},
   "outputs": [
    {
     "data": {
      "text/plain": [
       "OneHotDiscreteTensorSpec(\n",
       "    shape=torch.Size([48]),\n",
       "    space=DiscreteBox(n=48),\n",
       "    device=cpu,\n",
       "    dtype=torch.int64,\n",
       "    domain=discrete)"
      ]
     },
     "execution_count": 58,
     "metadata": {},
     "output_type": "execute_result"
    }
   ],
   "source": [
    "env.observation_spec[\"observation\"]"
   ]
  },
  {
   "cell_type": "code",
   "execution_count": 59,
   "id": "db66b3e6-1e6e-4ae1-a2ee-e94b3b7c057e",
   "metadata": {},
   "outputs": [
    {
     "data": {
      "text/plain": [
       "_CompositeSpecKeysView(keys=['observation'])"
      ]
     },
     "execution_count": 59,
     "metadata": {},
     "output_type": "execute_result"
    }
   ],
   "source": [
    "env.observation_spec.keys()"
   ]
  },
  {
   "cell_type": "code",
   "execution_count": 60,
   "id": "a968e485-7252-41a5-9f23-9735111a0de1",
   "metadata": {},
   "outputs": [
    {
     "data": {
      "text/plain": [
       "OneHotDiscreteTensorSpec(\n",
       "    shape=torch.Size([4]),\n",
       "    space=DiscreteBox(n=4),\n",
       "    device=cpu,\n",
       "    dtype=torch.int64,\n",
       "    domain=discrete)"
      ]
     },
     "execution_count": 60,
     "metadata": {},
     "output_type": "execute_result"
    }
   ],
   "source": [
    "env.action_spec"
   ]
  },
  {
   "cell_type": "code",
   "execution_count": 61,
   "id": "f7a80a29-f46f-402b-bfad-da28c3408526",
   "metadata": {},
   "outputs": [],
   "source": [
    "import torch\n",
    "from mcts import AlphaZeroMCTS\n",
    "from unittest.mock import MagicMock\n",
    "from mcts import TensorDictTree, MCTSNode, AlphaZeroMCTS, PUCTPolicy"
   ]
  },
  {
   "cell_type": "code",
   "execution_count": 64,
   "id": "7843564c-105a-46e4-8e87-7760f8978622",
   "metadata": {},
   "outputs": [],
   "source": [
    "nnet = MagicMock(return_value={\"action_values\": torch.Tensor([1 / 4 for _ in range(4)])})\n",
    "tree = TensorDictTree(\"done\", nnet)\n",
    "alpha_env = AlphaZeroMCTS(\n",
    "    env,\n",
    "    nnet,\n",
    "    tree,\n",
    ")\n"
   ]
  },
  {
   "cell_type": "code",
   "execution_count": 65,
   "id": "c688865d-9f0f-47c6-8816-e54a256c6c30",
   "metadata": {},
   "outputs": [
    {
     "data": {
      "text/plain": [
       "TensorDict(\n",
       "    fields={\n",
       "        done: Tensor(shape=torch.Size([1]), device=cpu, dtype=torch.bool, is_shared=False),\n",
       "        observation: Tensor(shape=torch.Size([48]), device=cpu, dtype=torch.int64, is_shared=False)},\n",
       "    batch_size=torch.Size([]),\n",
       "    device=cpu,\n",
       "    is_shared=False)"
      ]
     },
     "execution_count": 65,
     "metadata": {},
     "output_type": "execute_result"
    }
   ],
   "source": [
    "alpha_env.reset()"
   ]
  },
  {
   "cell_type": "code",
   "execution_count": 12,
   "id": "bf2adb04-5d02-481d-95ff-31a4e3e11437",
   "metadata": {},
   "outputs": [],
   "source": [
    "path = env.rollout(3)"
   ]
  },
  {
   "cell_type": "code",
   "execution_count": 14,
   "id": "7f23ad76-435c-4ab6-b7c6-92ea908796eb",
   "metadata": {},
   "outputs": [
    {
     "data": {
      "text/plain": [
       "tensor([0, 0, 1, 0])"
      ]
     },
     "execution_count": 14,
     "metadata": {},
     "output_type": "execute_result"
    }
   ],
   "source": [
    "path[0][\"action\"]"
   ]
  },
  {
   "cell_type": "markdown",
   "id": "b3c5e9c9-5536-4470-aafb-0d4b0263bd77",
   "metadata": {},
   "source": [
    "TD Lambda "
   ]
  },
  {
   "cell_type": "code",
   "execution_count": 5,
   "id": "43f833c7-3e0c-4bf8-bbac-86d379a165c2",
   "metadata": {},
   "outputs": [],
   "source": [
    "import torch\n",
    "from torch import nn\n",
    "from tensordict import TensorDict\n",
    "from tensordict.nn import TensorDictModule\n",
    "from torchrl.objectives.value import TD0Estimator, TDLambdaEstimator"
   ]
  },
  {
   "cell_type": "code",
   "execution_count": 2,
   "id": "0e78afff-0b70-4dcc-a516-cb91b75138dc",
   "metadata": {},
   "outputs": [],
   "source": [
    "\n",
    "value_net = TensorDictModule(\n",
    "    nn.Linear(3, 1), in_keys=[\"obs\"], out_keys=[\"state_value\"]\n",
    ")\n",
    "\n",
    "module = TD0Estimator(\n",
    "    gamma=1,\n",
    "    value_network=None,\n",
    ")\n",
    "\n",
    "obs, next_obs = torch.randn(2, 1, 10, 3)\n",
    "reward = torch.randn(1, 10, 1)\n",
    "done = torch.zeros(1, 10, 1, dtype=torch.bool)\n",
    "terminated = torch.zeros(1, 10, 1, dtype=torch.bool)\n",
    "tensordict = TensorDict(\n",
    "    {\n",
    "        \"obs\": obs, \n",
    "        \"next\": {\n",
    "            \"obs\": next_obs, \n",
    "            \"done\": done, \n",
    "            \"terminated\": terminated, \n",
    "            \"reward\": reward\n",
    "        }\n",
    "    }, \n",
    "    [1, 10]\n",
    ")\n",
    "# module(tensordict)"
   ]
  },
  {
   "cell_type": "code",
   "execution_count": 3,
   "id": "930e5533-0102-42eb-ad8d-90938c5f0617",
   "metadata": {},
   "outputs": [
    {
     "data": {
      "text/plain": [
       "tensor([[1.8000],\n",
       "        [1.0000]])"
      ]
     },
     "execution_count": 3,
     "metadata": {},
     "output_type": "execute_result"
    }
   ],
   "source": [
    "# state_value = torch.Tensor([0]).to(torch.float32)\n",
    "reward = torch.Tensor([[1], [1]]).to(torch.float32)\n",
    "done = torch.Tensor([[0], [1]]).to(torch.bool)\n",
    "next_value = torch.Tensor([[1], [1]]).to(torch.float32)\n",
    "\n",
    "current_state = TensorDict(\n",
    "    {\n",
    "        # \"state_value\": state_value,\n",
    "        \"next\": {\n",
    "            \"reward\": reward,\n",
    "            \"done\": done\n",
    "        }\n",
    "    },\n",
    "    batch_size=(2,)\n",
    ")\n",
    "\n",
    "module = TD0Estimator(\n",
    "    gamma=0.8,\n",
    "    value_network=None,\n",
    ")\n",
    "\n",
    "module.value_estimate(current_state, next_value=next_value)"
   ]
  },
  {
   "cell_type": "code",
   "execution_count": 4,
   "id": "60716599-0763-4899-a619-2d1180631a4c",
   "metadata": {},
   "outputs": [],
   "source": [
    "# lambda = 1 -> MC values\n",
    "# lambda = 0 -> TD0\n",
    "# Requirements: 1) next_value, 2) reward, 3) done \n",
    "# shape is B x T x F"
   ]
  },
  {
   "cell_type": "code",
   "execution_count": 65,
   "id": "8c2b58bc-a5c1-4c68-a35c-b59d88b491c9",
   "metadata": {},
   "outputs": [
    {
     "name": "stdout",
     "output_type": "stream",
     "text": [
      "tensor([[0.5760, 0.8000, 1.0000]])\n",
      "value target: tensor([[0.5760, 0.8000, 1.0000]])\n"
     ]
    }
   ],
   "source": [
    "estimator = TDLambdaEstimator(\n",
    "    gamma=0.8,\n",
    "    lmbda=0.9,\n",
    "    value_network=None,\n",
    ")\n",
    "\n",
    "current_state_value = torch.Tensor([[0., 1., 2.0]])\n",
    "next_state_value = torch.Tensor([[0.0, 1.0, 2.0]])\n",
    "done = torch.Tensor([[0, 0, 1]]).to(torch.bool)\n",
    "reward = torch.Tensor([[0.0, 0.0, 1.0]])\n",
    "\n",
    "keys = estimator.tensor_keys\n",
    "\n",
    "episode = TensorDict(\n",
    "    {\n",
    "        # keys.value: current_state_value,\n",
    "        \"next\": {\n",
    "            keys.value: next_state_value,\n",
    "            keys.done: done,  \n",
    "            keys.reward: reward,\n",
    "        },\n",
    "    }, \n",
    "    batch_size=current_state_value.shape,\n",
    ")\n",
    "\n",
    "res = estimator.value_estimate(episode)\n",
    "print(res)\n",
    "\n",
    "print(\"value target: \" + str(res))"
   ]
  },
  {
   "cell_type": "code",
   "execution_count": 66,
   "id": "80aaeed0-be65-4eb1-ad7e-bdfef8c714cc",
   "metadata": {},
   "outputs": [
    {
     "name": "stdout",
     "output_type": "stream",
     "text": [
      "<class 'tuple'>\n"
     ]
    }
   ],
   "source": [
    "a = ()\n",
    "print(type(a))"
   ]
  },
  {
   "cell_type": "markdown",
   "id": "9d124a7c-d572-408f-8d33-9a929b0d1784",
   "metadata": {},
   "source": [
    "# Playing with a toy problem"
   ]
  },
  {
   "cell_type": "code",
   "execution_count": 18,
   "id": "442ff201-0b54-4d26-9596-ca01ddcefa0e",
   "metadata": {},
   "outputs": [],
   "source": [
    "from torchrl.envs.libs.gym import GymEnv"
   ]
  },
  {
   "cell_type": "code",
   "execution_count": 19,
   "id": "a76b4332-4f12-4e94-8bd5-f8d6bb5cd85c",
   "metadata": {},
   "outputs": [],
   "source": [
    "env = GymEnv(\"CliffWalking-v0\", render_mode=\"rgb_array\")"
   ]
  },
  {
   "cell_type": "code",
   "execution_count": 190,
   "id": "eb3f0de1-4f56-42ed-ac28-c81966dc35ac",
   "metadata": {},
   "outputs": [
    {
     "name": "stdout",
     "output_type": "stream",
     "text": [
      "action space OneHotDiscreteTensorSpec(\n",
      "    shape=torch.Size([4]),\n",
      "    space=DiscreteBox(n=4),\n",
      "    device=cpu,\n",
      "    dtype=torch.int64,\n",
      "    domain=discrete)\n"
     ]
    }
   ],
   "source": [
    "print(\"action space\", env.action_spec)"
   ]
  },
  {
   "cell_type": "code",
   "execution_count": 189,
   "id": "c9bfb6a9-ba3d-4730-905e-fbd727d63724",
   "metadata": {},
   "outputs": [
    {
     "name": "stdout",
     "output_type": "stream",
     "text": [
      "state td: TensorDict(\n",
      "    fields={\n",
      "        done: Tensor(shape=torch.Size([1]), device=cpu, dtype=torch.bool, is_shared=False),\n",
      "        observation: Tensor(shape=torch.Size([48]), device=cpu, dtype=torch.int64, is_shared=False)},\n",
      "    batch_size=torch.Size([]),\n",
      "    device=cpu,\n",
      "    is_shared=False)\n",
      "observation:  tensor([[0, 0, 0, 0, 0, 0, 0, 0, 0, 0, 0, 0],\n",
      "        [0, 0, 0, 0, 0, 0, 0, 0, 0, 0, 0, 0],\n",
      "        [0, 0, 0, 0, 0, 0, 0, 0, 0, 0, 0, 0],\n",
      "        [1, 0, 0, 0, 0, 0, 0, 0, 0, 0, 0, 0]])\n",
      "next state:  TensorDict(\n",
      "    fields={\n",
      "        action: Tensor(shape=torch.Size([1]), device=cpu, dtype=torch.int64, is_shared=False),\n",
      "        done: Tensor(shape=torch.Size([1]), device=cpu, dtype=torch.bool, is_shared=False),\n",
      "        next: TensorDict(\n",
      "            fields={\n",
      "                done: Tensor(shape=torch.Size([1]), device=cpu, dtype=torch.bool, is_shared=False),\n",
      "                observation: Tensor(shape=torch.Size([48]), device=cpu, dtype=torch.int64, is_shared=False),\n",
      "                reward: Tensor(shape=torch.Size([1]), device=cpu, dtype=torch.float32, is_shared=False)},\n",
      "            batch_size=torch.Size([]),\n",
      "            device=cpu,\n",
      "            is_shared=False),\n",
      "        observation: Tensor(shape=torch.Size([48]), device=cpu, dtype=torch.int64, is_shared=False)},\n",
      "    batch_size=torch.Size([]),\n",
      "    device=cpu,\n",
      "    is_shared=False)\n",
      "next state observation:  tensor([[0, 0, 0, 0, 0, 0, 0, 0, 0, 0, 0, 0],\n",
      "        [0, 0, 0, 0, 0, 0, 0, 0, 0, 0, 0, 0],\n",
      "        [1, 0, 0, 0, 0, 0, 0, 0, 0, 0, 0, 0],\n",
      "        [0, 0, 0, 0, 0, 0, 0, 0, 0, 0, 0, 0]])\n",
      "new state:  TensorDict(\n",
      "    fields={\n",
      "        done: Tensor(shape=torch.Size([1]), device=cpu, dtype=torch.bool, is_shared=False),\n",
      "        observation: Tensor(shape=torch.Size([48]), device=cpu, dtype=torch.int64, is_shared=False),\n",
      "        reward: Tensor(shape=torch.Size([1]), device=cpu, dtype=torch.float32, is_shared=False)},\n",
      "    batch_size=torch.Size([]),\n",
      "    device=cpu,\n",
      "    is_shared=False)\n",
      "new next state:  TensorDict(\n",
      "    fields={\n",
      "        action: Tensor(shape=torch.Size([4]), device=cpu, dtype=torch.int64, is_shared=False),\n",
      "        done: Tensor(shape=torch.Size([1]), device=cpu, dtype=torch.bool, is_shared=False),\n",
      "        next: TensorDict(\n",
      "            fields={\n",
      "                done: Tensor(shape=torch.Size([1]), device=cpu, dtype=torch.bool, is_shared=False),\n",
      "                observation: Tensor(shape=torch.Size([48]), device=cpu, dtype=torch.int64, is_shared=False),\n",
      "                reward: Tensor(shape=torch.Size([1]), device=cpu, dtype=torch.float32, is_shared=False)},\n",
      "            batch_size=torch.Size([]),\n",
      "            device=cpu,\n",
      "            is_shared=False),\n",
      "        observation: Tensor(shape=torch.Size([48]), device=cpu, dtype=torch.int64, is_shared=False),\n",
      "        reward: Tensor(shape=torch.Size([1]), device=cpu, dtype=torch.float32, is_shared=False)},\n",
      "    batch_size=torch.Size([]),\n",
      "    device=cpu,\n",
      "    is_shared=False)\n",
      "new next observation:  tensor([[0, 0, 0, 0, 0, 0, 0, 0, 0, 0, 0, 0],\n",
      "        [0, 0, 0, 0, 0, 0, 0, 0, 0, 0, 0, 0],\n",
      "        [0, 1, 0, 0, 0, 0, 0, 0, 0, 0, 0, 0],\n",
      "        [0, 0, 0, 0, 0, 0, 0, 0, 0, 0, 0, 0]])\n"
     ]
    }
   ],
   "source": [
    "state = env.reset()\n",
    "print(\"state td:\", state)\n",
    "print(\"observation: \", state[\"observation\"].reshape(-1, 12))\n",
    "\n",
    "state[\"action\"] = torch.Tensor([0]).to(torch.int64)\n",
    "next_state = env.step(state)\n",
    "print(\"next state: \", next_state)\n",
    "print(\"next state observation: \", next_state[(\"next\", \"observation\")].reshape(-1, 12))\n",
    "\n",
    "state = next_state[\"next\"]\n",
    "print(\"new state: \", state)\n",
    "state[\"action\"] = torch.Tensor([0, 1, 0, 0]).to(torch.int64)\n",
    "next_state = env.step(state)\n",
    "print(\"new next state: \", next_state)\n",
    "print(\"new next observation: \", next_state[(\"next\", \"observation\")].reshape(-1, 12))\n"
   ]
  },
  {
   "cell_type": "code",
   "execution_count": 216,
   "id": "8650fc6c-00bf-4735-aa3e-8199c1bd05aa",
   "metadata": {},
   "outputs": [
    {
     "name": "stdout",
     "output_type": "stream",
     "text": [
      "torch.Size([4])\n",
      "state:  tensor([[0, 0, 0, 0, 0, 0, 0, 0, 0, 0, 0, 0],\n",
      "        [0, 0, 0, 0, 0, 0, 0, 0, 0, 0, 0, 0],\n",
      "        [0, 0, 0, 0, 0, 0, 0, 0, 0, 0, 0, 0],\n",
      "        [1, 0, 0, 0, 0, 0, 0, 0, 0, 0, 0, 0]])\n"
     ]
    },
    {
     "name": "stdin",
     "output_type": "stream",
     "text": [
      " 0\n"
     ]
    },
    {
     "name": "stdout",
     "output_type": "stream",
     "text": [
      "reward:  tensor([-1.])\n",
      "done:  tensor([False])\n",
      "state:  tensor([[0, 0, 0, 0, 0, 0, 0, 0, 0, 0, 0, 0],\n",
      "        [0, 0, 0, 0, 0, 0, 0, 0, 0, 0, 0, 0],\n",
      "        [1, 0, 0, 0, 0, 0, 0, 0, 0, 0, 0, 0],\n",
      "        [0, 0, 0, 0, 0, 0, 0, 0, 0, 0, 0, 0]])\n"
     ]
    },
    {
     "name": "stdin",
     "output_type": "stream",
     "text": [
      " 1\n"
     ]
    },
    {
     "name": "stdout",
     "output_type": "stream",
     "text": [
      "reward:  tensor([-1.])\n",
      "done:  tensor([False])\n",
      "state:  tensor([[0, 0, 0, 0, 0, 0, 0, 0, 0, 0, 0, 0],\n",
      "        [0, 0, 0, 0, 0, 0, 0, 0, 0, 0, 0, 0],\n",
      "        [0, 1, 0, 0, 0, 0, 0, 0, 0, 0, 0, 0],\n",
      "        [0, 0, 0, 0, 0, 0, 0, 0, 0, 0, 0, 0]])\n"
     ]
    },
    {
     "name": "stdin",
     "output_type": "stream",
     "text": [
      " 1\n"
     ]
    },
    {
     "name": "stdout",
     "output_type": "stream",
     "text": [
      "reward:  tensor([-1.])\n",
      "done:  tensor([False])\n",
      "state:  tensor([[0, 0, 0, 0, 0, 0, 0, 0, 0, 0, 0, 0],\n",
      "        [0, 0, 0, 0, 0, 0, 0, 0, 0, 0, 0, 0],\n",
      "        [0, 0, 1, 0, 0, 0, 0, 0, 0, 0, 0, 0],\n",
      "        [0, 0, 0, 0, 0, 0, 0, 0, 0, 0, 0, 0]])\n"
     ]
    },
    {
     "name": "stdin",
     "output_type": "stream",
     "text": [
      " 1\n"
     ]
    },
    {
     "name": "stdout",
     "output_type": "stream",
     "text": [
      "reward:  tensor([-1.])\n",
      "done:  tensor([False])\n",
      "state:  tensor([[0, 0, 0, 0, 0, 0, 0, 0, 0, 0, 0, 0],\n",
      "        [0, 0, 0, 0, 0, 0, 0, 0, 0, 0, 0, 0],\n",
      "        [0, 0, 0, 1, 0, 0, 0, 0, 0, 0, 0, 0],\n",
      "        [0, 0, 0, 0, 0, 0, 0, 0, 0, 0, 0, 0]])\n"
     ]
    },
    {
     "name": "stdin",
     "output_type": "stream",
     "text": [
      " 1\n"
     ]
    },
    {
     "name": "stdout",
     "output_type": "stream",
     "text": [
      "reward:  tensor([-1.])\n",
      "done:  tensor([False])\n",
      "state:  tensor([[0, 0, 0, 0, 0, 0, 0, 0, 0, 0, 0, 0],\n",
      "        [0, 0, 0, 0, 0, 0, 0, 0, 0, 0, 0, 0],\n",
      "        [0, 0, 0, 0, 1, 0, 0, 0, 0, 0, 0, 0],\n",
      "        [0, 0, 0, 0, 0, 0, 0, 0, 0, 0, 0, 0]])\n"
     ]
    },
    {
     "name": "stdin",
     "output_type": "stream",
     "text": [
      " 1\n"
     ]
    },
    {
     "name": "stdout",
     "output_type": "stream",
     "text": [
      "reward:  tensor([-1.])\n",
      "done:  tensor([False])\n",
      "state:  tensor([[0, 0, 0, 0, 0, 0, 0, 0, 0, 0, 0, 0],\n",
      "        [0, 0, 0, 0, 0, 0, 0, 0, 0, 0, 0, 0],\n",
      "        [0, 0, 0, 0, 0, 1, 0, 0, 0, 0, 0, 0],\n",
      "        [0, 0, 0, 0, 0, 0, 0, 0, 0, 0, 0, 0]])\n"
     ]
    },
    {
     "name": "stdin",
     "output_type": "stream",
     "text": [
      " 1\n"
     ]
    },
    {
     "name": "stdout",
     "output_type": "stream",
     "text": [
      "reward:  tensor([-1.])\n",
      "done:  tensor([False])\n",
      "state:  tensor([[0, 0, 0, 0, 0, 0, 0, 0, 0, 0, 0, 0],\n",
      "        [0, 0, 0, 0, 0, 0, 0, 0, 0, 0, 0, 0],\n",
      "        [0, 0, 0, 0, 0, 0, 1, 0, 0, 0, 0, 0],\n",
      "        [0, 0, 0, 0, 0, 0, 0, 0, 0, 0, 0, 0]])\n"
     ]
    },
    {
     "name": "stdin",
     "output_type": "stream",
     "text": [
      " 1\n"
     ]
    },
    {
     "name": "stdout",
     "output_type": "stream",
     "text": [
      "reward:  tensor([-1.])\n",
      "done:  tensor([False])\n",
      "state:  tensor([[0, 0, 0, 0, 0, 0, 0, 0, 0, 0, 0, 0],\n",
      "        [0, 0, 0, 0, 0, 0, 0, 0, 0, 0, 0, 0],\n",
      "        [0, 0, 0, 0, 0, 0, 0, 1, 0, 0, 0, 0],\n",
      "        [0, 0, 0, 0, 0, 0, 0, 0, 0, 0, 0, 0]])\n"
     ]
    },
    {
     "name": "stdin",
     "output_type": "stream",
     "text": [
      " 1\n"
     ]
    },
    {
     "name": "stdout",
     "output_type": "stream",
     "text": [
      "reward:  tensor([-1.])\n",
      "done:  tensor([False])\n",
      "state:  tensor([[0, 0, 0, 0, 0, 0, 0, 0, 0, 0, 0, 0],\n",
      "        [0, 0, 0, 0, 0, 0, 0, 0, 0, 0, 0, 0],\n",
      "        [0, 0, 0, 0, 0, 0, 0, 0, 1, 0, 0, 0],\n",
      "        [0, 0, 0, 0, 0, 0, 0, 0, 0, 0, 0, 0]])\n"
     ]
    },
    {
     "name": "stdin",
     "output_type": "stream",
     "text": [
      " 1\n"
     ]
    },
    {
     "name": "stdout",
     "output_type": "stream",
     "text": [
      "reward:  tensor([-1.])\n",
      "done:  tensor([False])\n",
      "state:  tensor([[0, 0, 0, 0, 0, 0, 0, 0, 0, 0, 0, 0],\n",
      "        [0, 0, 0, 0, 0, 0, 0, 0, 0, 0, 0, 0],\n",
      "        [0, 0, 0, 0, 0, 0, 0, 0, 0, 1, 0, 0],\n",
      "        [0, 0, 0, 0, 0, 0, 0, 0, 0, 0, 0, 0]])\n"
     ]
    },
    {
     "name": "stdin",
     "output_type": "stream",
     "text": [
      " 1\n"
     ]
    },
    {
     "name": "stdout",
     "output_type": "stream",
     "text": [
      "reward:  tensor([-1.])\n",
      "done:  tensor([False])\n",
      "state:  tensor([[0, 0, 0, 0, 0, 0, 0, 0, 0, 0, 0, 0],\n",
      "        [0, 0, 0, 0, 0, 0, 0, 0, 0, 0, 0, 0],\n",
      "        [0, 0, 0, 0, 0, 0, 0, 0, 0, 0, 1, 0],\n",
      "        [0, 0, 0, 0, 0, 0, 0, 0, 0, 0, 0, 0]])\n"
     ]
    },
    {
     "name": "stdin",
     "output_type": "stream",
     "text": [
      " 1\n"
     ]
    },
    {
     "name": "stdout",
     "output_type": "stream",
     "text": [
      "reward:  tensor([-1.])\n",
      "done:  tensor([False])\n",
      "state:  tensor([[0, 0, 0, 0, 0, 0, 0, 0, 0, 0, 0, 0],\n",
      "        [0, 0, 0, 0, 0, 0, 0, 0, 0, 0, 0, 0],\n",
      "        [0, 0, 0, 0, 0, 0, 0, 0, 0, 0, 0, 1],\n",
      "        [0, 0, 0, 0, 0, 0, 0, 0, 0, 0, 0, 0]])\n"
     ]
    },
    {
     "name": "stdin",
     "output_type": "stream",
     "text": [
      " 2\n"
     ]
    },
    {
     "name": "stdout",
     "output_type": "stream",
     "text": [
      "reward:  tensor([-1.])\n",
      "done:  tensor([True])\n",
      "state:  tensor([[0, 0, 0, 0, 0, 0, 0, 0, 0, 0, 0, 0],\n",
      "        [0, 0, 0, 0, 0, 0, 0, 0, 0, 0, 0, 0],\n",
      "        [0, 0, 0, 0, 0, 0, 0, 0, 0, 0, 0, 0],\n",
      "        [0, 0, 0, 0, 0, 0, 0, 0, 0, 0, 0, 1]])\n"
     ]
    },
    {
     "name": "stdin",
     "output_type": "stream",
     "text": [
      " 1\n"
     ]
    },
    {
     "name": "stdout",
     "output_type": "stream",
     "text": [
      "reward:  tensor([-1.])\n",
      "done:  tensor([True])\n",
      "state:  tensor([[0, 0, 0, 0, 0, 0, 0, 0, 0, 0, 0, 0],\n",
      "        [0, 0, 0, 0, 0, 0, 0, 0, 0, 0, 0, 0],\n",
      "        [0, 0, 0, 0, 0, 0, 0, 0, 0, 0, 0, 0],\n",
      "        [0, 0, 0, 0, 0, 0, 0, 0, 0, 0, 0, 1]])\n"
     ]
    },
    {
     "name": "stdin",
     "output_type": "stream",
     "text": [
      " 0\n"
     ]
    },
    {
     "name": "stdout",
     "output_type": "stream",
     "text": [
      "reward:  tensor([-1.])\n",
      "done:  tensor([False])\n",
      "state:  tensor([[0, 0, 0, 0, 0, 0, 0, 0, 0, 0, 0, 0],\n",
      "        [0, 0, 0, 0, 0, 0, 0, 0, 0, 0, 0, 0],\n",
      "        [0, 0, 0, 0, 0, 0, 0, 0, 0, 0, 0, 1],\n",
      "        [0, 0, 0, 0, 0, 0, 0, 0, 0, 0, 0, 0]])\n"
     ]
    },
    {
     "name": "stdin",
     "output_type": "stream",
     "text": [
      " 1\n"
     ]
    },
    {
     "name": "stdout",
     "output_type": "stream",
     "text": [
      "reward:  tensor([-1.])\n",
      "done:  tensor([False])\n",
      "state:  tensor([[0, 0, 0, 0, 0, 0, 0, 0, 0, 0, 0, 0],\n",
      "        [0, 0, 0, 0, 0, 0, 0, 0, 0, 0, 0, 0],\n",
      "        [0, 0, 0, 0, 0, 0, 0, 0, 0, 0, 0, 1],\n",
      "        [0, 0, 0, 0, 0, 0, 0, 0, 0, 0, 0, 0]])\n"
     ]
    },
    {
     "name": "stdin",
     "output_type": "stream",
     "text": [
      " 2\n"
     ]
    },
    {
     "name": "stdout",
     "output_type": "stream",
     "text": [
      "reward:  tensor([-1.])\n",
      "done:  tensor([True])\n",
      "state:  tensor([[0, 0, 0, 0, 0, 0, 0, 0, 0, 0, 0, 0],\n",
      "        [0, 0, 0, 0, 0, 0, 0, 0, 0, 0, 0, 0],\n",
      "        [0, 0, 0, 0, 0, 0, 0, 0, 0, 0, 0, 0],\n",
      "        [0, 0, 0, 0, 0, 0, 0, 0, 0, 0, 0, 1]])\n"
     ]
    },
    {
     "name": "stdin",
     "output_type": "stream",
     "text": [
      " 2\n"
     ]
    },
    {
     "name": "stdout",
     "output_type": "stream",
     "text": [
      "reward:  tensor([-1.])\n",
      "done:  tensor([True])\n",
      "state:  tensor([[0, 0, 0, 0, 0, 0, 0, 0, 0, 0, 0, 0],\n",
      "        [0, 0, 0, 0, 0, 0, 0, 0, 0, 0, 0, 0],\n",
      "        [0, 0, 0, 0, 0, 0, 0, 0, 0, 0, 0, 0],\n",
      "        [0, 0, 0, 0, 0, 0, 0, 0, 0, 0, 0, 1]])\n"
     ]
    },
    {
     "name": "stdin",
     "output_type": "stream",
     "text": [
      " 3\n"
     ]
    },
    {
     "name": "stdout",
     "output_type": "stream",
     "text": [
      "reward:  tensor([-100.])\n",
      "done:  tensor([False])\n",
      "state:  tensor([[0, 0, 0, 0, 0, 0, 0, 0, 0, 0, 0, 0],\n",
      "        [0, 0, 0, 0, 0, 0, 0, 0, 0, 0, 0, 0],\n",
      "        [0, 0, 0, 0, 0, 0, 0, 0, 0, 0, 0, 0],\n",
      "        [1, 0, 0, 0, 0, 0, 0, 0, 0, 0, 0, 0]])\n"
     ]
    },
    {
     "name": "stdin",
     "output_type": "stream",
     "text": [
      " -1\n"
     ]
    }
   ],
   "source": [
    "state = env.reset()\n",
    "print(env.action_spec.rand().shape)\n",
    "\n",
    "while True:\n",
    "    print(\"state: \", state[\"observation\"].reshape(-1, 12))\n",
    "    action = int(input())\n",
    "    if action == -1:\n",
    "        break\n",
    "    else:\n",
    "        env_action = torch.zeros(4).to(torch.int64)\n",
    "        env_action[action] = 1\n",
    "        state[\"action\"] = env_action\n",
    "        state = env.step(state)[\"next\"]\n",
    "        print(\"reward: \", state[\"reward\"])\n",
    "        print(\"done: \", state[\"done\"])"
   ]
  },
  {
   "cell_type": "code",
   "execution_count": null,
   "id": "c2a7deaa-a000-4aa2-b873-2bd947774f39",
   "metadata": {},
   "outputs": [],
   "source": [
    "# rollout = env.rollout(max_steps=100000)\n",
    "print(rollout)"
   ]
  },
  {
   "cell_type": "code",
   "execution_count": 52,
   "id": "c8db0c17-6975-416a-b2e6-386a878cf95c",
   "metadata": {},
   "outputs": [],
   "source": [
    "num_states = env.observation_spec[\"observation\"].shape[0]\n",
    "num_actions = env.action_spec.shape[0]"
   ]
  },
  {
   "cell_type": "code",
   "execution_count": 139,
   "id": "49e0912f-383e-489a-9abc-e0b652752c71",
   "metadata": {},
   "outputs": [
    {
     "name": "stdout",
     "output_type": "stream",
     "text": [
      "torch.Size([2, 48])\n",
      "tensor([[-0.2153,  0.0463,  0.1416, -0.0828],\n",
      "        [-0.1546, -0.0262,  0.1625, -0.0649]], grad_fn=<AddmmBackward0>)\n"
     ]
    }
   ],
   "source": [
    "import torch\n",
    "\n",
    "state_idx = torch.Tensor([1, 3]).to(torch.int64)\n",
    "state_input = torch.nn.functional.one_hot(state_idx, num_states)\n",
    "print(state_input.size())\n",
    "\n",
    "class CastTo(torch.nn.Module):\n",
    "    def __init__(self, dtype):\n",
    "        super(CastTo, self).__init__()\n",
    "        self.dtype = dtype\n",
    "    def forward(self, input):\n",
    "        return input.to(self.dtype)\n",
    "\n",
    "to_action = torch.nn.Linear(num_states, num_actions)\n",
    "to_float32 = CastTo(torch.float32)\n",
    "\n",
    "qvalue = torch.nn.Sequential(to_float32, to_action)\n",
    "\n",
    "print(qvalue(state_input))"
   ]
  },
  {
   "cell_type": "code",
   "execution_count": 150,
   "id": "4176f145-e508-4055-ae81-c6729dfe3e55",
   "metadata": {},
   "outputs": [],
   "source": [
    "from tensordict.nn import TensorDictModule, TensorDictSequential\n",
    "from torchrl.modules import QValueModule\n",
    "\n",
    "qvalue_network = TensorDictModule(qvalue, in_keys=[\"observation\"], out_keys=[\"action_value\"])\n",
    "qvalue_module = QValueModule(action_space=\"one_hot\")\n",
    "\n",
    "actor = TensorDictSequential(qvalue_network, qvalue_module)"
   ]
  },
  {
   "cell_type": "code",
   "execution_count": 173,
   "id": "9e73e540-8487-4419-95d9-0c5820ede477",
   "metadata": {},
   "outputs": [
    {
     "name": "stdout",
     "output_type": "stream",
     "text": [
      "TensorDict(\n",
      "    fields={\n",
      "        action: Tensor(shape=torch.Size([10, 4]), device=cpu, dtype=torch.int64, is_shared=False),\n",
      "        action_value: Tensor(shape=torch.Size([10, 4]), device=cpu, dtype=torch.float32, is_shared=False),\n",
      "        done: Tensor(shape=torch.Size([10, 1]), device=cpu, dtype=torch.bool, is_shared=False),\n",
      "        next: TensorDict(\n",
      "            fields={\n",
      "                done: Tensor(shape=torch.Size([10, 1]), device=cpu, dtype=torch.bool, is_shared=False),\n",
      "                observation: Tensor(shape=torch.Size([10, 48]), device=cpu, dtype=torch.int64, is_shared=False),\n",
      "                reward: Tensor(shape=torch.Size([10, 1]), device=cpu, dtype=torch.float32, is_shared=False)},\n",
      "            batch_size=torch.Size([10]),\n",
      "            device=cpu,\n",
      "            is_shared=False),\n",
      "        observation: Tensor(shape=torch.Size([10, 48]), device=cpu, dtype=torch.int64, is_shared=False)},\n",
      "    batch_size=torch.Size([10]),\n",
      "    device=cpu,\n",
      "    is_shared=False)\n",
      "tensor([[0, 0, 0, 1],\n",
      "        [1, 0, 0, 0],\n",
      "        [1, 0, 0, 0],\n",
      "        [0, 1, 0, 0],\n",
      "        [0, 1, 0, 0],\n",
      "        [0, 0, 0, 1],\n",
      "        [0, 0, 0, 1],\n",
      "        [0, 0, 0, 1],\n",
      "        [1, 0, 0, 0],\n",
      "        [1, 0, 0, 0]])\n"
     ]
    }
   ],
   "source": [
    "res = qvalue_network(env.rollout(max_steps=10))\n",
    "print(res)\n",
    "print(res[\"action\"])"
   ]
  },
  {
   "cell_type": "code",
   "execution_count": 152,
   "id": "43c95a2e-2481-4c03-b788-d0b0164b2849",
   "metadata": {},
   "outputs": [],
   "source": [
    "from torchrl.envs import ParallelEnv"
   ]
  },
  {
   "cell_type": "code",
   "execution_count": 153,
   "id": "89b19aee-d90d-4053-afdf-c4acd8eba4e6",
   "metadata": {},
   "outputs": [],
   "source": [
    "penv = ParallelEnv(2, lambda: GymEnv(\"CliffWalking-v0\"))"
   ]
  },
  {
   "cell_type": "code",
   "execution_count": 154,
   "id": "2391e4ae-be85-4b6d-8fd8-e4fd01eb87cd",
   "metadata": {},
   "outputs": [],
   "source": [
    "res = penv.rollout(max_steps=10, policy=actor)"
   ]
  },
  {
   "cell_type": "code",
   "execution_count": 175,
   "id": "e649c40d-7fa2-4f90-8796-27f073f317a5",
   "metadata": {},
   "outputs": [
    {
     "name": "stdout",
     "output_type": "stream",
     "text": [
      "tensor([[0, 0, 0, 0, 0, 0, 0, 0, 0, 0, 0, 0],\n",
      "        [0, 0, 0, 0, 0, 0, 0, 0, 0, 0, 0, 0],\n",
      "        [0, 0, 0, 0, 0, 0, 0, 0, 0, 0, 0, 0],\n",
      "        [1, 0, 0, 0, 0, 0, 0, 0, 0, 0, 0, 0]])\n",
      "tensor([0, 0, 0, 1])\n",
      "tensor([[0, 0, 0, 0, 0, 0, 0, 0, 0, 0, 0, 0],\n",
      "        [0, 0, 0, 0, 0, 0, 0, 0, 0, 0, 0, 0],\n",
      "        [0, 0, 0, 0, 0, 0, 0, 0, 0, 0, 0, 0],\n",
      "        [1, 0, 0, 0, 0, 0, 0, 0, 0, 0, 0, 0]])\n",
      "tensor([1, 0, 0, 0])\n",
      "tensor([[0, 0, 0, 0, 0, 0, 0, 0, 0, 0, 0, 0],\n",
      "        [0, 0, 0, 0, 0, 0, 0, 0, 0, 0, 0, 0],\n",
      "        [1, 0, 0, 0, 0, 0, 0, 0, 0, 0, 0, 0],\n",
      "        [0, 0, 0, 0, 0, 0, 0, 0, 0, 0, 0, 0]])\n",
      "tensor([1, 0, 0, 0])\n",
      "tensor([[0, 0, 0, 0, 0, 0, 0, 0, 0, 0, 0, 0],\n",
      "        [1, 0, 0, 0, 0, 0, 0, 0, 0, 0, 0, 0],\n",
      "        [0, 0, 0, 0, 0, 0, 0, 0, 0, 0, 0, 0],\n",
      "        [0, 0, 0, 0, 0, 0, 0, 0, 0, 0, 0, 0]])\n",
      "tensor([0, 1, 0, 0])\n",
      "tensor([[0, 0, 0, 0, 0, 0, 0, 0, 0, 0, 0, 0],\n",
      "        [0, 1, 0, 0, 0, 0, 0, 0, 0, 0, 0, 0],\n",
      "        [0, 0, 0, 0, 0, 0, 0, 0, 0, 0, 0, 0],\n",
      "        [0, 0, 0, 0, 0, 0, 0, 0, 0, 0, 0, 0]])\n",
      "tensor([0, 1, 0, 0])\n",
      "tensor([[0, 0, 0, 0, 0, 0, 0, 0, 0, 0, 0, 0],\n",
      "        [0, 0, 1, 0, 0, 0, 0, 0, 0, 0, 0, 0],\n",
      "        [0, 0, 0, 0, 0, 0, 0, 0, 0, 0, 0, 0],\n",
      "        [0, 0, 0, 0, 0, 0, 0, 0, 0, 0, 0, 0]])\n",
      "tensor([0, 0, 0, 1])\n",
      "tensor([[0, 0, 0, 0, 0, 0, 0, 0, 0, 0, 0, 0],\n",
      "        [0, 1, 0, 0, 0, 0, 0, 0, 0, 0, 0, 0],\n",
      "        [0, 0, 0, 0, 0, 0, 0, 0, 0, 0, 0, 0],\n",
      "        [0, 0, 0, 0, 0, 0, 0, 0, 0, 0, 0, 0]])\n",
      "tensor([0, 0, 0, 1])\n",
      "tensor([[0, 0, 0, 0, 0, 0, 0, 0, 0, 0, 0, 0],\n",
      "        [1, 0, 0, 0, 0, 0, 0, 0, 0, 0, 0, 0],\n",
      "        [0, 0, 0, 0, 0, 0, 0, 0, 0, 0, 0, 0],\n",
      "        [0, 0, 0, 0, 0, 0, 0, 0, 0, 0, 0, 0]])\n",
      "tensor([0, 0, 0, 1])\n",
      "tensor([[0, 0, 0, 0, 0, 0, 0, 0, 0, 0, 0, 0],\n",
      "        [1, 0, 0, 0, 0, 0, 0, 0, 0, 0, 0, 0],\n",
      "        [0, 0, 0, 0, 0, 0, 0, 0, 0, 0, 0, 0],\n",
      "        [0, 0, 0, 0, 0, 0, 0, 0, 0, 0, 0, 0]])\n",
      "tensor([1, 0, 0, 0])\n",
      "tensor([[1, 0, 0, 0, 0, 0, 0, 0, 0, 0, 0, 0],\n",
      "        [0, 0, 0, 0, 0, 0, 0, 0, 0, 0, 0, 0],\n",
      "        [0, 0, 0, 0, 0, 0, 0, 0, 0, 0, 0, 0],\n",
      "        [0, 0, 0, 0, 0, 0, 0, 0, 0, 0, 0, 0]])\n",
      "tensor([1, 0, 0, 0])\n"
     ]
    }
   ],
   "source": [
    "for i in range(10):\n",
    "    print(res[i][\"observation\"].reshape(-1, 12))\n",
    "    print(res[i][\"action\"])"
   ]
  },
  {
   "cell_type": "code",
   "execution_count": 176,
   "id": "8bf97de5-01d5-467f-91e8-3285fb9aab32",
   "metadata": {},
   "outputs": [
    {
     "data": {
      "text/plain": [
       "tensor([1, 0, 0, 0])"
      ]
     },
     "execution_count": 176,
     "metadata": {},
     "output_type": "execute_result"
    }
   ],
   "source": [
    "env.action_spec.rand()"
   ]
  },
  {
   "cell_type": "code",
   "execution_count": 182,
   "id": "40294ee9-5b81-4902-b2e4-ab9948169c6e",
   "metadata": {},
   "outputs": [
    {
     "data": {
      "text/plain": [
       "torch.return_types.max(\n",
       "values=tensor(4.),\n",
       "indices=tensor(3))"
      ]
     },
     "execution_count": 182,
     "metadata": {},
     "output_type": "execute_result"
    }
   ],
   "source": [
    "torch.max(torch.Tensor([1, 2, 3, 4]), dim=-1 , keepdim=False)"
   ]
  },
  {
   "cell_type": "markdown",
   "id": "a906d703-6de8-4687-a4dd-e106f110799a",
   "metadata": {},
   "source": [
    "# understanding different modules"
   ]
  },
  {
   "cell_type": "code",
   "execution_count": 184,
   "id": "5239d18b-b564-4e0b-9860-0d601a8d6ad4",
   "metadata": {},
   "outputs": [
    {
     "name": "stdout",
     "output_type": "stream",
     "text": [
      "TensorDict(\n",
      "    fields={\n",
      "        action: Tensor(shape=torch.Size([5, 3]), device=cpu, dtype=torch.int64, is_shared=False),\n",
      "        action_value: Tensor(shape=torch.Size([5, 3]), device=cpu, dtype=torch.float32, is_shared=False),\n",
      "        chosen_action_value: Tensor(shape=torch.Size([5, 1]), device=cpu, dtype=torch.float32, is_shared=False),\n",
      "        observation: Tensor(shape=torch.Size([5, 4]), device=cpu, dtype=torch.float32, is_shared=False)},\n",
      "    batch_size=torch.Size([5]),\n",
      "    device=None,\n",
      "    is_shared=False)\n"
     ]
    }
   ],
   "source": [
    "import torch\n",
    "from tensordict import TensorDict\n",
    "from torch import nn\n",
    "from torchrl.data import OneHotDiscreteTensorSpec\n",
    "from torchrl.modules.tensordict_module.actors import QValueActor\n",
    "\n",
    "td = TensorDict({'observation': torch.randn(5, 4)}, [5])\n",
    "# with a regular nn.Module\n",
    "module = nn.Linear(4, 3)\n",
    "action_spec = OneHotDiscreteTensorSpec(3)\n",
    "qvalue_actor = QValueActor(module=module, spec=action_spec)\n",
    "td = qvalue_actor(td)\n",
    "print(td)"
   ]
  },
  {
   "cell_type": "code",
   "execution_count": 185,
   "id": "cf7c5747-e19a-46e8-a95e-2dd903f2c08d",
   "metadata": {},
   "outputs": [
    {
     "name": "stdout",
     "output_type": "stream",
     "text": [
      "tensor([[1, 0, 0],\n",
      "        [0, 1, 0],\n",
      "        [1, 0, 0],\n",
      "        [0, 0, 1],\n",
      "        [0, 0, 1]])\n"
     ]
    }
   ],
   "source": [
    "print(td[\"action\"])"
   ]
  },
  {
   "cell_type": "code",
   "execution_count": 186,
   "id": "200e49e5-90e6-4b9b-8fdc-5b06c2af05ee",
   "metadata": {},
   "outputs": [
    {
     "name": "stdout",
     "output_type": "stream",
     "text": [
      "tensor([[ 1.4383,  0.4109, -0.6570],\n",
      "        [ 0.3302,  0.5247, -0.9097],\n",
      "        [ 0.6031, -0.4730,  0.3791],\n",
      "        [-0.2069, -0.0556,  0.0531],\n",
      "        [-0.4058, -0.2364, -0.0673]], grad_fn=<AddmmBackward0>)\n"
     ]
    }
   ],
   "source": [
    "print(td[\"action_value\"])"
   ]
  },
  {
   "cell_type": "code",
   "execution_count": 187,
   "id": "cc90faca-35db-44d5-ad80-9d77162c2b90",
   "metadata": {},
   "outputs": [
    {
     "name": "stdout",
     "output_type": "stream",
     "text": [
      "tensor([[ 1.4383],\n",
      "        [ 0.5247],\n",
      "        [ 0.6031],\n",
      "        [ 0.0531],\n",
      "        [-0.0673]], grad_fn=<SumBackward1>)\n"
     ]
    }
   ],
   "source": [
    "print(td[\"chosen_action_value\"])"
   ]
  },
  {
   "cell_type": "code",
   "execution_count": null,
   "id": "1b8098c6-5999-42e5-a537-f9a506b216e0",
   "metadata": {},
   "outputs": [],
   "source": [
    "# QValueModule: action_value -> action\n",
    "# QValueActor: obseration -> module -> action_value -> action"
   ]
  }
 ],
 "metadata": {
  "kernelspec": {
   "display_name": "Python 3 (ipykernel)",
   "language": "python",
   "name": "python3"
  },
  "language_info": {
   "codemirror_mode": {
    "name": "ipython",
    "version": 3
   },
   "file_extension": ".py",
   "mimetype": "text/x-python",
   "name": "python",
   "nbconvert_exporter": "python",
   "pygments_lexer": "ipython3",
   "version": "3.10.13"
  }
 },
 "nbformat": 4,
 "nbformat_minor": 5
}
