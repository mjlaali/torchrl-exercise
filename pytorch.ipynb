{
 "cells": [
  {
   "cell_type": "code",
   "execution_count": 1,
   "id": "fd8b5bae",
   "metadata": {},
   "outputs": [],
   "source": [
    "import torch"
   ]
  },
  {
   "cell_type": "code",
   "execution_count": 2,
   "id": "c6b497f4",
   "metadata": {},
   "outputs": [],
   "source": [
    "a = torch.zeros(3, 4)"
   ]
  },
  {
   "cell_type": "code",
   "execution_count": 3,
   "id": "acefd7ae",
   "metadata": {},
   "outputs": [
    {
     "data": {
      "text/plain": [
       "True"
      ]
     },
     "execution_count": 3,
     "metadata": {},
     "output_type": "execute_result"
    }
   ],
   "source": [
    "torch.sum(a).numpy().item() == 0"
   ]
  },
  {
   "cell_type": "code",
   "execution_count": 4,
   "id": "584f63a4",
   "metadata": {},
   "outputs": [
    {
     "data": {
      "text/plain": [
       "'tensor([[0., 0., 0., 0.],\\n        [0., 0., 0., 0.],\\n        [0., 0., 0., 0.]])'"
      ]
     },
     "execution_count": 4,
     "metadata": {},
     "output_type": "execute_result"
    }
   ],
   "source": [
    "str(a)"
   ]
  },
  {
   "cell_type": "code",
   "execution_count": 10,
   "id": "b070e68b",
   "metadata": {},
   "outputs": [],
   "source": [
    "board = torch.arange(12).reshape(3, 4)"
   ]
  },
  {
   "cell_type": "code",
   "execution_count": 11,
   "id": "8dcedae6",
   "metadata": {},
   "outputs": [
    {
     "data": {
      "text/plain": [
       "tensor([[ 0,  1,  2,  3],\n",
       "        [ 4,  5,  6,  7],\n",
       "        [ 8,  9, 10, 11]])"
      ]
     },
     "execution_count": 11,
     "metadata": {},
     "output_type": "execute_result"
    }
   ],
   "source": [
    "board"
   ]
  },
  {
   "cell_type": "code",
   "execution_count": 20,
   "id": "7e91e818",
   "metadata": {},
   "outputs": [
    {
     "data": {
      "text/plain": [
       "tensor([4, 0, 0])"
      ]
     },
     "execution_count": 20,
     "metadata": {},
     "output_type": "execute_result"
    }
   ],
   "source": [
    "torch.sum(board < 4, dim=-1) "
   ]
  },
  {
   "cell_type": "code",
   "execution_count": 18,
   "id": "67fff13a",
   "metadata": {},
   "outputs": [
    {
     "data": {
      "text/plain": [
       "tensor([[2, 2, 2, 0],\n",
       "        [0, 0, 0, 0],\n",
       "        [0, 0, 0, 0]], dtype=torch.int32)"
      ]
     },
     "execution_count": 18,
     "metadata": {},
     "output_type": "execute_result"
    }
   ],
   "source": [
    "(board < 3).int() + (board < 3).int()"
   ]
  },
  {
   "cell_type": "code",
   "execution_count": 21,
   "id": "278a9210",
   "metadata": {},
   "outputs": [
    {
     "data": {
      "text/plain": [
       "tensor([[0, 1, 0, 1],\n",
       "        [0, 1, 0, 1],\n",
       "        [0, 1, 0, 1]])"
      ]
     },
     "execution_count": 21,
     "metadata": {},
     "output_type": "execute_result"
    }
   ],
   "source": [
    "board % 2"
   ]
  },
  {
   "cell_type": "code",
   "execution_count": 4,
   "id": "7245b559",
   "metadata": {},
   "outputs": [],
   "source": [
    "t = torch.Tensor([2])"
   ]
  },
  {
   "cell_type": "code",
   "execution_count": 6,
   "id": "b5fde945",
   "metadata": {},
   "outputs": [
    {
     "data": {
      "text/plain": [
       "tensor([2.])"
      ]
     },
     "execution_count": 6,
     "metadata": {},
     "output_type": "execute_result"
    }
   ],
   "source": [
    "t.square().sqrt()"
   ]
  },
  {
   "cell_type": "code",
   "execution_count": null,
   "id": "5fe90d7f",
   "metadata": {},
   "outputs": [],
   "source": []
  }
 ],
 "metadata": {
  "kernelspec": {
   "display_name": "Python 3 (ipykernel)",
   "language": "python",
   "name": "python3"
  },
  "language_info": {
   "codemirror_mode": {
    "name": "ipython",
    "version": 3
   },
   "file_extension": ".py",
   "mimetype": "text/x-python",
   "name": "python",
   "nbconvert_exporter": "python",
   "pygments_lexer": "ipython3",
   "version": "3.10.13"
  }
 },
 "nbformat": 4,
 "nbformat_minor": 5
}
