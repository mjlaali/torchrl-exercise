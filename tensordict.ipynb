{
 "cells": [
  {
   "cell_type": "code",
   "execution_count": 2,
   "id": "c36b8645",
   "metadata": {},
   "outputs": [],
   "source": [
    "from tensordict import TensorDict\n",
    "import torch"
   ]
  },
  {
   "cell_type": "code",
   "execution_count": 11,
   "id": "af31d90f",
   "metadata": {},
   "outputs": [],
   "source": [
    "ex = TensorDict(\n",
    "    {\n",
    "        \"f1\": torch.arange(12).reshape(2, 3, 2),\n",
    "        \"f2\": (torch.arange(6) * 3).reshape(2, 3)\n",
    "    },\n",
    "    batch_size=(2,)\n",
    ")"
   ]
  },
  {
   "cell_type": "code",
   "execution_count": 12,
   "id": "84285303",
   "metadata": {},
   "outputs": [
    {
     "data": {
      "text/plain": [
       "TensorDict(\n",
       "    fields={\n",
       "        f1: Tensor(shape=torch.Size([2, 3, 2]), device=cpu, dtype=torch.int64, is_shared=False),\n",
       "        f2: Tensor(shape=torch.Size([2, 3]), device=cpu, dtype=torch.int64, is_shared=False)},\n",
       "    batch_size=torch.Size([2]),\n",
       "    device=None,\n",
       "    is_shared=False)"
      ]
     },
     "execution_count": 12,
     "metadata": {},
     "output_type": "execute_result"
    }
   ],
   "source": [
    "ex"
   ]
  },
  {
   "cell_type": "code",
   "execution_count": 41,
   "id": "075ad508",
   "metadata": {},
   "outputs": [
    {
     "name": "stdout",
     "output_type": "stream",
     "text": [
      "tensor([0, 1])\n",
      "tensor(0)\n"
     ]
    }
   ],
   "source": [
    "print(ex[0, 0][\"f1\"])\n",
    "print(ex[0, 0][\"f2\"])"
   ]
  },
  {
   "cell_type": "code",
   "execution_count": 29,
   "id": "bfc7d74e",
   "metadata": {},
   "outputs": [
    {
     "data": {
      "text/plain": [
       "2"
      ]
     },
     "execution_count": 29,
     "metadata": {},
     "output_type": "execute_result"
    }
   ],
   "source": [
    "len(ex)"
   ]
  },
  {
   "cell_type": "code",
   "execution_count": 42,
   "id": "1f3f6ede",
   "metadata": {},
   "outputs": [
    {
     "data": {
      "text/plain": [
       "torch.Size([2, 3])"
      ]
     },
     "execution_count": 42,
     "metadata": {},
     "output_type": "execute_result"
    }
   ],
   "source": [
    "ex.shape"
   ]
  },
  {
   "cell_type": "code",
   "execution_count": 44,
   "id": "8b61cbef",
   "metadata": {},
   "outputs": [
    {
     "data": {
      "text/plain": [
       "tensor([[1.]])"
      ]
     },
     "execution_count": 44,
     "metadata": {},
     "output_type": "execute_result"
    }
   ],
   "source": [
    "torch.ones(1, 1)"
   ]
  },
  {
   "cell_type": "code",
   "execution_count": 45,
   "id": "51f2e115",
   "metadata": {},
   "outputs": [
    {
     "data": {
      "text/plain": [
       "tensor([[[ 0,  1],\n",
       "         [ 2,  3],\n",
       "         [ 4,  5]],\n",
       "\n",
       "        [[ 6,  7],\n",
       "         [ 8,  9],\n",
       "         [10, 11]]])"
      ]
     },
     "execution_count": 45,
     "metadata": {},
     "output_type": "execute_result"
    }
   ],
   "source": [
    "ex[\"f1\"]"
   ]
  },
  {
   "cell_type": "code",
   "execution_count": 13,
   "id": "1b174022",
   "metadata": {},
   "outputs": [],
   "source": [
    "test = ex.clone()"
   ]
  },
  {
   "cell_type": "code",
   "execution_count": 18,
   "id": "48aba733-c9cc-40ee-8aea-b984d71575e5",
   "metadata": {},
   "outputs": [
    {
     "data": {
      "text/plain": [
       "TensorDict(\n",
       "    fields={\n",
       "        f1: Tensor(shape=torch.Size([2, 3, 2]), device=cpu, dtype=torch.int64, is_shared=False),\n",
       "        f2: Tensor(shape=torch.Size([2, 3]), device=cpu, dtype=torch.int64, is_shared=False),\n",
       "        test: Tensor(shape=torch.Size([2]), device=cpu, dtype=torch.float32, is_shared=False)},\n",
       "    batch_size=torch.Size([2]),\n",
       "    device=None,\n",
       "    is_shared=False)"
      ]
     },
     "execution_count": 18,
     "metadata": {},
     "output_type": "execute_result"
    }
   ],
   "source": [
    "test.set(\"test\", torch.Tensor([1, 2]))"
   ]
  },
  {
   "cell_type": "markdown",
   "id": "9ec52a0a-9979-461f-b99b-563400b331b3",
   "metadata": {},
   "source": [
    "Stacking TensorDict"
   ]
  },
  {
   "cell_type": "code",
   "execution_count": 4,
   "id": "725381e3-155f-4165-af91-78f52f8d149a",
   "metadata": {},
   "outputs": [],
   "source": [
    "a = TensorDict(\n",
    "    {\n",
    "        \"a\": torch.Tensor([1, 2, 3])    \n",
    "    },\n",
    "    batch_size=()\n",
    ")"
   ]
  },
  {
   "cell_type": "code",
   "execution_count": 9,
   "id": "bd5657bd-d0fd-499e-aa58-a32dc115ffe4",
   "metadata": {},
   "outputs": [],
   "source": [
    "s = torch.stack([a])"
   ]
  },
  {
   "cell_type": "code",
   "execution_count": 8,
   "id": "26704db4-f898-4e39-9d40-76091838e4f8",
   "metadata": {},
   "outputs": [
    {
     "data": {
      "text/plain": [
       "TensorDict(\n",
       "    fields={\n",
       "        a: Tensor(shape=torch.Size([3]), device=cpu, dtype=torch.float32, is_shared=False)},\n",
       "    batch_size=torch.Size([]),\n",
       "    device=None,\n",
       "    is_shared=False)"
      ]
     },
     "execution_count": 8,
     "metadata": {},
     "output_type": "execute_result"
    }
   ],
   "source": [
    "a"
   ]
  },
  {
   "cell_type": "code",
   "execution_count": 10,
   "id": "dfab0f69-ab3c-43a8-8593-80259bd0a126",
   "metadata": {},
   "outputs": [
    {
     "data": {
      "text/plain": [
       "LazyStackedTensorDict(\n",
       "    fields={\n",
       "        a: Tensor(shape=torch.Size([1, 3]), device=cpu, dtype=torch.float32, is_shared=False)},\n",
       "    exclusive_fields={\n",
       "    },\n",
       "    batch_size=torch.Size([1]),\n",
       "    device=None,\n",
       "    is_shared=False,\n",
       "    stack_dim=0)"
      ]
     },
     "execution_count": 10,
     "metadata": {},
     "output_type": "execute_result"
    }
   ],
   "source": [
    "s"
   ]
  },
  {
   "cell_type": "code",
   "execution_count": 11,
   "id": "6c8c255d-c77f-41a4-a65a-b1548892eb84",
   "metadata": {},
   "outputs": [
    {
     "data": {
      "text/plain": [
       "TensorDict(\n",
       "    fields={\n",
       "        a: Tensor(shape=torch.Size([3]), device=cpu, dtype=torch.float32, is_shared=False)},\n",
       "    batch_size=torch.Size([]),\n",
       "    device=None,\n",
       "    is_shared=False)"
      ]
     },
     "execution_count": 11,
     "metadata": {},
     "output_type": "execute_result"
    }
   ],
   "source": [
    "s[0, ...]"
   ]
  },
  {
   "cell_type": "code",
   "execution_count": null,
   "id": "490c35af-abb2-45f1-91d4-decab676674e",
   "metadata": {},
   "outputs": [],
   "source": []
  }
 ],
 "metadata": {
  "kernelspec": {
   "display_name": "Python 3 (ipykernel)",
   "language": "python",
   "name": "python3"
  },
  "language_info": {
   "codemirror_mode": {
    "name": "ipython",
    "version": 3
   },
   "file_extension": ".py",
   "mimetype": "text/x-python",
   "name": "python",
   "nbconvert_exporter": "python",
   "pygments_lexer": "ipython3",
   "version": "3.10.13"
  }
 },
 "nbformat": 4,
 "nbformat_minor": 5
}
